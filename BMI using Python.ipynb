{
 "cells": [
  {
   "cell_type": "markdown",
   "id": "2bb2afd6",
   "metadata": {
    "scrolled": false
   },
   "source": [
    "# Body Mass Index Calculator using if-else loop"
   ]
  },
  {
   "cell_type": "code",
   "execution_count": 3,
   "id": "bdd81b36",
   "metadata": {},
   "outputs": [
    {
     "name": "stdout",
     "output_type": "stream",
     "text": [
      "Please enter your name: Adit\n",
      "Enter your weight in pounds: 147\n",
      "Enter your height in inches: 67\n",
      "Adit, your BMI is 23.0209400757407\n",
      "Adit, you are normal weight. You need to keep going whatever you are doing.\n"
     ]
    }
   ],
   "source": [
    "name = input('Please enter your name: ')\n",
    "\n",
    "weight = int(input('Enter your weight in pounds: '))\n",
    "\n",
    "height = int(input('Enter your height in inches: '))\n",
    "\n",
    "BMI = (703 * weight) / (height * height)\n",
    "\n",
    "num_BMI = str(BMI)\n",
    "\n",
    "print (name + ', your BMI is ' + num_BMI)\n",
    "\n",
    "if BMI > 0:\n",
    "    if BMI < 18.5:\n",
    "        print(name + ', you are underweight. You need to gain a little bit.')\n",
    "        \n",
    "    elif BMI <= 24.9:\n",
    "        print (name + ', you are normal weight. You need to keep going whatever you are doing.')\n",
    "        \n",
    "    elif BMI <= 29.9:\n",
    "        print (name + ', you are overweight. You need to exercise more and you will be on track.')\n",
    "        \n",
    "    elif BMI <= 34.9:\n",
    "        print (name + ', you are obese. You need to exercise more and start eating healthy.')\n",
    "        \n",
    "    elif BMI <= 39.9:\n",
    "        print (name + ', you are severly obese. You need to make a full fledged exercise and diet plan and follow it.')\n",
    "        \n",
    "    else:\n",
    "        print (name + ', you are morbidly obese. You need to consult a dietician and look seriously on this matter.')\n",
    "        \n",
    "else:\n",
    "    print ('Enter valid values.')"
   ]
  },
  {
   "cell_type": "code",
   "execution_count": null,
   "id": "46fdd13b",
   "metadata": {},
   "outputs": [],
   "source": []
  }
 ],
 "metadata": {
  "kernelspec": {
   "display_name": "Python 3",
   "language": "python",
   "name": "python3"
  },
  "language_info": {
   "codemirror_mode": {
    "name": "ipython",
    "version": 3
   },
   "file_extension": ".py",
   "mimetype": "text/x-python",
   "name": "python",
   "nbconvert_exporter": "python",
   "pygments_lexer": "ipython3",
   "version": "3.8.8"
  }
 },
 "nbformat": 4,
 "nbformat_minor": 5
}
